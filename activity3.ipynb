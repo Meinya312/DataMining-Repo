{
 "cells": [
  {
   "cell_type": "markdown",
   "metadata": {},
   "source": [
    "<h1>Project: Data Analytics Project</h1>"
   ]
  },
  {
   "cell_type": "markdown",
   "metadata": {},
   "source": [
    "<h2>United Kingdom Road Accident Data Analysis</h2>\n",
    "<p>Data Analyst: Steven R. Maraig</p>"
   ]
  },
  {
   "cell_type": "markdown",
   "metadata": {},
   "source": [
    "<h1>Importing Libraries</h1>"
   ]
  },
  {
   "cell_type": "code",
   "execution_count": 1,
   "metadata": {},
   "outputs": [],
   "source": [
    "import seaborn as sns\n",
    "import pandas as pd \n",
    "import matplotlib.pyplot as plt\n",
    "import numpy as np\n",
    "from scipy.stats import f_oneway"
   ]
  },
  {
   "cell_type": "markdown",
   "metadata": {},
   "source": [
    "<h1>Creating a Data Frame</h1>"
   ]
  },
  {
   "cell_type": "code",
   "execution_count": 2,
   "metadata": {},
   "outputs": [],
   "source": [
    "accident = pd.read_csv('dataset//accident_data.csv')\n"
   ]
  },
  {
   "cell_type": "code",
   "execution_count": 3,
   "metadata": {},
   "outputs": [
    {
     "data": {
      "text/plain": [
       "(660679, 14)"
      ]
     },
     "execution_count": 3,
     "metadata": {},
     "output_type": "execute_result"
    }
   ],
   "source": [
    "accident.shape"
   ]
  },
  {
   "cell_type": "code",
   "execution_count": 4,
   "metadata": {},
   "outputs": [
    {
     "data": {
      "text/plain": [
       "Index                       object\n",
       "Accident_Severity           object\n",
       "Accident Date               object\n",
       "Latitude                   float64\n",
       "Light_Conditions            object\n",
       "District Area               object\n",
       "Longitude                  float64\n",
       "Number_of_Casualties         int64\n",
       "Number_of_Vehicles           int64\n",
       "Road_Surface_Conditions     object\n",
       "Road_Type                   object\n",
       "Urban_or_Rural_Area         object\n",
       "Weather_Conditions          object\n",
       "Vehicle_Type                object\n",
       "dtype: object"
      ]
     },
     "execution_count": 4,
     "metadata": {},
     "output_type": "execute_result"
    }
   ],
   "source": [
    "accident.dtypes"
   ]
  },
  {
   "cell_type": "markdown",
   "metadata": {},
   "source": [
    "<h1>Checking Null values</h1>"
   ]
  },
  {
   "cell_type": "code",
   "execution_count": 5,
   "metadata": {},
   "outputs": [
    {
     "data": {
      "text/plain": [
       "Index                          0\n",
       "Accident_Severity              0\n",
       "Accident Date                  0\n",
       "Latitude                      25\n",
       "Light_Conditions               0\n",
       "District Area                  0\n",
       "Longitude                     26\n",
       "Number_of_Casualties           0\n",
       "Number_of_Vehicles             0\n",
       "Road_Surface_Conditions      726\n",
       "Road_Type                   4520\n",
       "Urban_or_Rural_Area           15\n",
       "Weather_Conditions         14128\n",
       "Vehicle_Type                   0\n",
       "dtype: int64"
      ]
     },
     "execution_count": 5,
     "metadata": {},
     "output_type": "execute_result"
    }
   ],
   "source": [
    "accident.isnull().sum()"
   ]
  },
  {
   "cell_type": "markdown",
   "metadata": {},
   "source": [
    "<h1>Handle missing values</h1>"
   ]
  },
  {
   "cell_type": "code",
   "execution_count": 6,
   "metadata": {},
   "outputs": [
    {
     "data": {
      "text/plain": [
       "Index                      0\n",
       "Accident_Severity          0\n",
       "Accident Date              0\n",
       "Latitude                   0\n",
       "Light_Conditions           0\n",
       "District Area              0\n",
       "Longitude                  0\n",
       "Number_of_Casualties       0\n",
       "Number_of_Vehicles         0\n",
       "Road_Surface_Conditions    0\n",
       "Road_Type                  0\n",
       "Urban_or_Rural_Area        0\n",
       "Weather_Conditions         0\n",
       "Vehicle_Type               0\n",
       "dtype: int64"
      ]
     },
     "execution_count": 6,
     "metadata": {},
     "output_type": "execute_result"
    }
   ],
   "source": [
    "accident['Latitude'] = accident['Latitude'].fillna(accident['Latitude'].mode()[0])\n",
    "accident['Longitude'] = accident['Longitude'].fillna(accident['Longitude'].mode()[0])\n",
    "accident['Road_Surface_Conditions'] = accident['Road_Surface_Conditions'].fillna(accident['Road_Surface_Conditions'].mode()[0])\n",
    "accident['Road_Type'] = accident['Road_Type'].fillna('Unknown Road Type')\n",
    "accident['Weather_Conditions'] = accident['Weather_Conditions'].fillna('Unknown Weather Condition')\n",
    "accident['Urban_or_Rural_Area'] = accident['Urban_or_Rural_Area'].fillna(accident['Urban_or_Rural_Area'].mode()[0])\n",
    "\n",
    "accident.isnull().sum()"
   ]
  },
  {
   "cell_type": "markdown",
   "metadata": {},
   "source": [
    "<h1>Changing data type</h1>"
   ]
  },
  {
   "cell_type": "code",
   "execution_count": 7,
   "metadata": {},
   "outputs": [
    {
     "data": {
      "text/plain": [
       "Index                       object\n",
       "Accident_Severity           object\n",
       "Accident Date               object\n",
       "Latitude                   float64\n",
       "Light_Conditions            object\n",
       "District Area               object\n",
       "Longitude                  float64\n",
       "Number_of_Casualties         int64\n",
       "Number_of_Vehicles           int64\n",
       "Road_Surface_Conditions     object\n",
       "Road_Type                   object\n",
       "Urban_or_Rural_Area         object\n",
       "Weather_Conditions          object\n",
       "Vehicle_Type                object\n",
       "dtype: object"
      ]
     },
     "execution_count": 7,
     "metadata": {},
     "output_type": "execute_result"
    }
   ],
   "source": [
    "accident.dtypes"
   ]
  },
  {
   "cell_type": "code",
   "execution_count": 8,
   "metadata": {},
   "outputs": [],
   "source": [
    "accident['Accident_Severity'] = accident['Accident_Severity'].astype('category')\n",
    "accident['Latitude'] = accident['Latitude'].astype('category')\n",
    "accident['Light_Conditions'] = accident['Light_Conditions'].astype('category')\n",
    "accident['District Area'] = accident['District Area'].astype('category')\n",
    "accident['Road_Surface_Conditions'] = accident['Road_Surface_Conditions'].astype('category')\n",
    "accident['Road_Type'] = accident['Road_Type'].astype('category')\n",
    "accident['Urban_or_Rural_Area'] = accident['Urban_or_Rural_Area'].astype('category')\n",
    "accident['Weather_Conditions'] = accident['Weather_Conditions'].astype('category')\n",
    "accident['Vehicle_Type'] = accident['Vehicle_Type'].astype('category')\n",
    "accident['Longitude'] = accident['Longitude'].astype('category')\n",
    "accident['Accident Date'] = accident['Accident Date'].astype('category')\n",
    "\n"
   ]
  },
  {
   "cell_type": "code",
   "execution_count": 9,
   "metadata": {},
   "outputs": [],
   "source": [
    "accident['Accident Date'] = accident['Accident Date'].str.strip()\n",
    "accident['Accident Date'] = accident['Accident Date'].astype('str')\n",
    "accident['Accident Date'] = accident['Accident Date'].str.replace('/','-')"
   ]
  },
  {
   "cell_type": "code",
   "execution_count": 10,
   "metadata": {},
   "outputs": [
    {
     "data": {
      "text/plain": [
       "Index                              object\n",
       "Accident_Severity                category\n",
       "Accident Date              datetime64[ns]\n",
       "Latitude                         category\n",
       "Light_Conditions                 category\n",
       "District Area                    category\n",
       "Longitude                        category\n",
       "Number_of_Casualties                int64\n",
       "Number_of_Vehicles                  int64\n",
       "Road_Surface_Conditions          category\n",
       "Road_Type                        category\n",
       "Urban_or_Rural_Area              category\n",
       "Weather_Conditions               category\n",
       "Vehicle_Type                     category\n",
       "dtype: object"
      ]
     },
     "execution_count": 10,
     "metadata": {},
     "output_type": "execute_result"
    }
   ],
   "source": [
    "accident['Accident Date'] = pd.to_datetime(accident['Accident Date'],dayfirst=True, errors='coerce')\n",
    "accident.dtypes"
   ]
  },
  {
   "cell_type": "markdown",
   "metadata": {},
   "source": [
    "<h2>Extracting date information using pandas date time </h2>"
   ]
  },
  {
   "cell_type": "code",
   "execution_count": 11,
   "metadata": {},
   "outputs": [],
   "source": [
    "accident['Year'] = accident['Accident Date'].dt.year\n",
    "accident['month'] = accident['Accident Date'].dt.month\n",
    "accident['day_of_week'] = accident['Accident Date'].dt.day_name()"
   ]
  },
  {
   "cell_type": "markdown",
   "metadata": {},
   "source": [
    "<h4>Changing the data type of the new column (nakalimutan ko po ito hehe)</h4>"
   ]
  },
  {
   "cell_type": "code",
   "execution_count": 12,
   "metadata": {},
   "outputs": [],
   "source": [
    "accident['Year'] = accident['Year'].astype('category')\n",
    "accident['month'] = accident['month'].astype('category')\n",
    "accident['day_of_week'] = accident['Year'].astype('category')"
   ]
  },
  {
   "cell_type": "code",
   "execution_count": 13,
   "metadata": {},
   "outputs": [
    {
     "data": {
      "text/plain": [
       "0         6\n",
       "1         7\n",
       "2         8\n",
       "3         8\n",
       "4         9\n",
       "         ..\n",
       "660674    2\n",
       "660675    2\n",
       "660676    2\n",
       "660677    2\n",
       "660678    2\n",
       "Name: month, Length: 660679, dtype: category\n",
       "Categories (12, int32): [1, 2, 3, 4, ..., 9, 10, 11, 12]"
      ]
     },
     "execution_count": 13,
     "metadata": {},
     "output_type": "execute_result"
    }
   ],
   "source": [
    "accident['month']"
   ]
  },
  {
   "cell_type": "markdown",
   "metadata": {},
   "source": [
    "<h2>How many incident happend under ligh condition during 2022</h2>"
   ]
  },
  {
   "cell_type": "markdown",
   "metadata": {},
   "source": [
    "<h1>Insight No1. </h1>\n",
    "<h3>74.64% of the accident occur during 2022 is Daylight conditions, Hypothesis: There are high percentage of accident during daylight conditions</h3>"
   ]
  },
  {
   "cell_type": "code",
   "execution_count": 14,
   "metadata": {},
   "outputs": [
    {
     "data": {
      "text/plain": [
       "Light_Conditions\n",
       "Daylight                       133042\n",
       "Darkness - lights lit           35769\n",
       "Darkness - no lighting          10842\n",
       "Darkness - lighting unknown      1768\n",
       "Darkness - lights unlit           694\n",
       "Name: count, dtype: int64"
      ]
     },
     "execution_count": 14,
     "metadata": {},
     "output_type": "execute_result"
    }
   ],
   "source": [
    "during_2019 = accident[accident['Year'] == 2019]\n",
    "during_2022 = accident[accident['Year'] == 2022]\n",
    "during_2020 = accident[accident['Year'] == 2020]\n",
    "during_2021 = accident[accident['Year'] == 2021]\n",
    "during_2019['Light_Conditions'].value_counts()"
   ]
  },
  {
   "cell_type": "markdown",
   "metadata": {},
   "source": [
    "<h3>What is the average number of casualties over the following years?</h3>"
   ]
  },
  {
   "cell_type": "markdown",
   "metadata": {},
   "source": [
    "<h1>Insight No2. </h1>\n",
    "<h3>Over the period from 2019 to 2022, the data reveals that the average number of casualties per year was approximately 1.3.</h3>"
   ]
  },
  {
   "cell_type": "code",
   "execution_count": 15,
   "metadata": {},
   "outputs": [
    {
     "data": {
      "text/plain": [
       "Year\n",
       "2019    1.360569\n",
       "2020    1.353559\n",
       "2021    1.358243\n",
       "2022    1.355341\n",
       "Name: Number_of_Casualties, dtype: float64"
      ]
     },
     "execution_count": 15,
     "metadata": {},
     "output_type": "execute_result"
    }
   ],
   "source": [
    "casuality_per_year = accident.groupby(['Year'])['Number_of_Casualties'].mean()\n",
    "casuality_per_year\n",
    "\n"
   ]
  },
  {
   "cell_type": "markdown",
   "metadata": {},
   "source": [
    "<h3>What is the distribution of accident severity?</h3>\n"
   ]
  },
  {
   "cell_type": "markdown",
   "metadata": {},
   "source": [
    "<h1>Insight No3. </h1>\n",
    "<h3>Vast majority of accidents are 85.34% 'Slight,' There are significantly fewer Serious with 13.35% , and even fewer with Fatal 1.31% accidents, with 8,661 occurrences.</h3>"
   ]
  },
  {
   "cell_type": "code",
   "execution_count": 16,
   "metadata": {},
   "outputs": [
    {
     "data": {
      "text/plain": [
       "Accident_Severity\n",
       "Slight     563801\n",
       "Serious     88217\n",
       "Fatal        8661\n",
       "Name: count, dtype: int64"
      ]
     },
     "execution_count": 16,
     "metadata": {},
     "output_type": "execute_result"
    }
   ],
   "source": [
    "accident['Accident_Severity'].value_counts()"
   ]
  },
  {
   "cell_type": "markdown",
   "metadata": {},
   "source": [
    "<h3>During 2020 which  areas are most prone to accidents?</h3>\n"
   ]
  },
  {
   "cell_type": "markdown",
   "metadata": {},
   "source": [
    "<h1>Insight No4. </h1>\n",
    "<h3>In rural areas, most accidents are slight, with 50,722 slight accidents compared to 9,774 serious and 1,495 fatal accidents. Urban areas also have many slight accidents (94,402) but with 13,346 serious and 846 fatal accidents</h3>"
   ]
  },
  {
   "cell_type": "code",
   "execution_count": 17,
   "metadata": {},
   "outputs": [
    {
     "data": {
      "text/plain": [
       "Urban_or_Rural_Area  Accident_Severity\n",
       "Rural                Fatal                 1495\n",
       "                     Serious               9774\n",
       "                     Slight               50722\n",
       "Unallocated          Fatal                    0\n",
       "                     Serious                  1\n",
       "                     Slight                   5\n",
       "Urban                Fatal                  846\n",
       "                     Serious              13346\n",
       "                     Slight               94402\n",
       "dtype: int64"
      ]
     },
     "execution_count": 17,
     "metadata": {},
     "output_type": "execute_result"
    }
   ],
   "source": [
    "fatality_area = during_2020.groupby(['Urban_or_Rural_Area','Accident_Severity']).size()\n",
    "fatality_area"
   ]
  },
  {
   "cell_type": "markdown",
   "metadata": {},
   "source": [
    "<h2>Do vehicle type actually affect the severity of the accident?</h2>\n"
   ]
  },
  {
   "cell_type": "markdown",
   "metadata": {},
   "source": [
    "<h1>Insight No5. </h1>\n",
    "<h3>During 2020 Cars account for 75.7% of all fatalities (1,772 out of 2,341), making them the most accident-prone vehicle type far exceeding other vehicles like buses or coaches (3.9%) and motorcycles over 500cc (4.2%). This highlights the urgent need for targeted safety measures to address car-related risks.</h3>"
   ]
  },
  {
   "cell_type": "code",
   "execution_count": 18,
   "metadata": {},
   "outputs": [
    {
     "data": {
      "text/html": [
       "<div>\n",
       "<style scoped>\n",
       "    .dataframe tbody tr th:only-of-type {\n",
       "        vertical-align: middle;\n",
       "    }\n",
       "\n",
       "    .dataframe tbody tr th {\n",
       "        vertical-align: top;\n",
       "    }\n",
       "\n",
       "    .dataframe thead th {\n",
       "        text-align: right;\n",
       "    }\n",
       "</style>\n",
       "<table border=\"1\" class=\"dataframe\">\n",
       "  <thead>\n",
       "    <tr style=\"text-align: right;\">\n",
       "      <th>Accident_Severity</th>\n",
       "      <th>Fatal</th>\n",
       "      <th>Serious</th>\n",
       "      <th>Slight</th>\n",
       "    </tr>\n",
       "    <tr>\n",
       "      <th>Vehicle_Type</th>\n",
       "      <th></th>\n",
       "      <th></th>\n",
       "      <th></th>\n",
       "    </tr>\n",
       "  </thead>\n",
       "  <tbody>\n",
       "    <tr>\n",
       "      <th>Agricultural vehicle</th>\n",
       "      <td>7</td>\n",
       "      <td>74</td>\n",
       "      <td>481</td>\n",
       "    </tr>\n",
       "    <tr>\n",
       "      <th>Bus or coach (17 or more pass seats)</th>\n",
       "      <td>91</td>\n",
       "      <td>841</td>\n",
       "      <td>5777</td>\n",
       "    </tr>\n",
       "    <tr>\n",
       "      <th>Car</th>\n",
       "      <td>1772</td>\n",
       "      <td>17384</td>\n",
       "      <td>108738</td>\n",
       "    </tr>\n",
       "    <tr>\n",
       "      <th>Data missing or out of range</th>\n",
       "      <td>0</td>\n",
       "      <td>0</td>\n",
       "      <td>6</td>\n",
       "    </tr>\n",
       "    <tr>\n",
       "      <th>Goods 7.5 tonnes mgw and over</th>\n",
       "      <td>52</td>\n",
       "      <td>622</td>\n",
       "      <td>3854</td>\n",
       "    </tr>\n",
       "    <tr>\n",
       "      <th>Goods over 3.5t. and under 7.5t</th>\n",
       "      <td>15</td>\n",
       "      <td>217</td>\n",
       "      <td>1313</td>\n",
       "    </tr>\n",
       "    <tr>\n",
       "      <th>Minibus (8 - 16 passenger seats)</th>\n",
       "      <td>9</td>\n",
       "      <td>72</td>\n",
       "      <td>449</td>\n",
       "    </tr>\n",
       "    <tr>\n",
       "      <th>Motorcycle 125cc and under</th>\n",
       "      <td>41</td>\n",
       "      <td>560</td>\n",
       "      <td>3503</td>\n",
       "    </tr>\n",
       "    <tr>\n",
       "      <th>Motorcycle 50cc and under</th>\n",
       "      <td>24</td>\n",
       "      <td>243</td>\n",
       "      <td>1497</td>\n",
       "    </tr>\n",
       "    <tr>\n",
       "      <th>Motorcycle over 125cc and up to 500cc</th>\n",
       "      <td>22</td>\n",
       "      <td>258</td>\n",
       "      <td>1645</td>\n",
       "    </tr>\n",
       "    <tr>\n",
       "      <th>Motorcycle over 500cc</th>\n",
       "      <td>98</td>\n",
       "      <td>908</td>\n",
       "      <td>5739</td>\n",
       "    </tr>\n",
       "    <tr>\n",
       "      <th>Other vehicle</th>\n",
       "      <td>23</td>\n",
       "      <td>217</td>\n",
       "      <td>1293</td>\n",
       "    </tr>\n",
       "    <tr>\n",
       "      <th>Pedal cycle</th>\n",
       "      <td>2</td>\n",
       "      <td>17</td>\n",
       "      <td>44</td>\n",
       "    </tr>\n",
       "    <tr>\n",
       "      <th>Ridden horse</th>\n",
       "      <td>0</td>\n",
       "      <td>0</td>\n",
       "      <td>0</td>\n",
       "    </tr>\n",
       "    <tr>\n",
       "      <th>Taxi/Private hire car</th>\n",
       "      <td>48</td>\n",
       "      <td>490</td>\n",
       "      <td>2983</td>\n",
       "    </tr>\n",
       "    <tr>\n",
       "      <th>Van / Goods 3.5 tonnes mgw or under</th>\n",
       "      <td>137</td>\n",
       "      <td>1218</td>\n",
       "      <td>7807</td>\n",
       "    </tr>\n",
       "  </tbody>\n",
       "</table>\n",
       "</div>"
      ],
      "text/plain": [
       "Accident_Severity                      Fatal  Serious  Slight\n",
       "Vehicle_Type                                                 \n",
       "Agricultural vehicle                       7       74     481\n",
       "Bus or coach (17 or more pass seats)      91      841    5777\n",
       "Car                                     1772    17384  108738\n",
       "Data missing or out of range               0        0       6\n",
       "Goods 7.5 tonnes mgw and over             52      622    3854\n",
       "Goods over 3.5t. and under 7.5t           15      217    1313\n",
       "Minibus (8 - 16 passenger seats)           9       72     449\n",
       "Motorcycle 125cc and under                41      560    3503\n",
       "Motorcycle 50cc and under                 24      243    1497\n",
       "Motorcycle over 125cc and up to 500cc     22      258    1645\n",
       "Motorcycle over 500cc                     98      908    5739\n",
       "Other vehicle                             23      217    1293\n",
       "Pedal cycle                                2       17      44\n",
       "Ridden horse                               0        0       0\n",
       "Taxi/Private hire car                     48      490    2983\n",
       "Van / Goods 3.5 tonnes mgw or under      137     1218    7807"
      ]
     },
     "execution_count": 18,
     "metadata": {},
     "output_type": "execute_result"
    }
   ],
   "source": [
    "vehicle_severity = during_2020.groupby(['Vehicle_Type','Accident_Severity']).size()\n",
    "vehicle_severity.unstack()"
   ]
  },
  {
   "cell_type": "markdown",
   "metadata": {},
   "source": [
    "<h2>Now what is the common road surface condition in vehicle type car during 2020?</h2>\n"
   ]
  },
  {
   "cell_type": "markdown",
   "metadata": {},
   "source": [
    "<h1>Insight No6. </h1>\n",
    "<h3>In 2020, the majority of \"car\" type accidents occurred on dry road surfaces, accounting for 66.67% (85,266 incidents) of all cases far exceeding wet or damp conditions (30.49%), frost or ice (2.28%), snow (0.35%), and flooding (0.19%).</h3>"
   ]
  },
  {
   "cell_type": "code",
   "execution_count": 19,
   "metadata": {},
   "outputs": [
    {
     "data": {
      "text/plain": [
       "Road_Surface_Conditions\n",
       "Dry                     85266\n",
       "Wet or damp             39019\n",
       "Frost or ice             2915\n",
       "Snow                      447\n",
       "Flood over 3cm. deep      247\n",
       "Name: count, dtype: int64"
      ]
     },
     "execution_count": 19,
     "metadata": {},
     "output_type": "execute_result"
    }
   ],
   "source": [
    "car_2020 = during_2020[during_2020['Vehicle_Type'] == 'Car']\n",
    "car_2020['Road_Surface_Conditions'].value_counts()"
   ]
  },
  {
   "cell_type": "markdown",
   "metadata": {},
   "source": [
    "<h2>Now what is the common Weather condition in vehicle type car during 2020?</h2>\n"
   ]
  },
  {
   "cell_type": "markdown",
   "metadata": {},
   "source": [
    "<h1>Insight No7. </h1>\n",
    "<h3>77.78% of all cases (99,486 incidents) occurred during fine weather conditions with no high winds, far exceeding other conditions such as raining no high winds (12.82%) and fine + high winds (1.67%). This highlights that favorable weather does not necessarily equate to safer driving conditions.</h3>"
   ]
  },
  {
   "cell_type": "code",
   "execution_count": 20,
   "metadata": {},
   "outputs": [
    {
     "data": {
      "text/plain": [
       "Weather_Conditions\n",
       "Fine no high winds           99486\n",
       "Raining no high winds        16393\n",
       "Other                         3177\n",
       "Unknown Weather Condition     2938\n",
       "Raining + high winds          2367\n",
       "Fine + high winds             2134\n",
       "Fog or mist                    716\n",
       "Snowing no high winds          538\n",
       "Snowing + high winds           145\n",
       "Name: count, dtype: int64"
      ]
     },
     "execution_count": 20,
     "metadata": {},
     "output_type": "execute_result"
    }
   ],
   "source": [
    "car_2020['Weather_Conditions'].value_counts()"
   ]
  },
  {
   "cell_type": "markdown",
   "metadata": {},
   "source": [
    "<h2>what is the common District an accident will occur in vehicle type car during 2020?</h2>\n"
   ]
  },
  {
   "cell_type": "markdown",
   "metadata": {},
   "source": [
    "<h1>Insight No.8 </h1>\n",
    "<h3>The majority of accidents occurred in the Birmingham district, accounting for 2,048 incidents—the highest among all districts—followed by Leeds (1,794) and Manchester (1,370). </h3>"
   ]
  },
  {
   "cell_type": "code",
   "execution_count": 21,
   "metadata": {},
   "outputs": [
    {
     "data": {
      "text/plain": [
       "District Area\n",
       "Birmingham                   2048\n",
       "Leeds                        1794\n",
       "Manchester                   1370\n",
       "Glasgow City                 1312\n",
       "Bradford                     1205\n",
       "                             ... \n",
       "Cheshire West and Chester       0\n",
       "Cheshire East                   0\n",
       "County Durham                   0\n",
       "Central Bedfordshire            0\n",
       "Northumberland                  0\n",
       "Name: count, Length: 422, dtype: int64"
      ]
     },
     "execution_count": 21,
     "metadata": {},
     "output_type": "execute_result"
    }
   ],
   "source": [
    "car_2020['District Area'].value_counts()\n"
   ]
  },
  {
   "cell_type": "code",
   "execution_count": 22,
   "metadata": {},
   "outputs": [
    {
     "data": {
      "text/plain": [
       "Index(['Index', 'Accident_Severity', 'Accident Date', 'Latitude',\n",
       "       'Light_Conditions', 'District Area', 'Longitude',\n",
       "       'Number_of_Casualties', 'Number_of_Vehicles', 'Road_Surface_Conditions',\n",
       "       'Road_Type', 'Urban_or_Rural_Area', 'Weather_Conditions',\n",
       "       'Vehicle_Type', 'Year', 'month', 'day_of_week'],\n",
       "      dtype='object')"
      ]
     },
     "execution_count": 22,
     "metadata": {},
     "output_type": "execute_result"
    }
   ],
   "source": [
    "accident.columns"
   ]
  },
  {
   "cell_type": "markdown",
   "metadata": {},
   "source": [
    "<h2>what is the accident severity trends over the past few years do the fatality increases?</h2>\n"
   ]
  },
  {
   "cell_type": "markdown",
   "metadata": {},
   "source": [
    "<h1>Insight No.9 </h1>\n",
    "<h3>The data shows a consistent decline in fatal accidents from 2019 to 2022, with a total reduction of 42.9% over the four years. Specifically, fatalities dropped by 13.74% from 2019 (2,714 accidents) to 2020 (2,341), by 12.13% from 2020 to 2021 (2,057), and by a significant 24.69% from 2021 to 2022 (1,549).</h3>"
   ]
  },
  {
   "cell_type": "code",
   "execution_count": 23,
   "metadata": {},
   "outputs": [],
   "source": [
    "#Before po ma realize na naka int po data type ni year\n",
    "#gawa po ito ni claude\n",
    "# year_dfs = [during_2019, during_2020, during_2021, during_2022]\n",
    "# years = list(range(2019, 2023))\n",
    "\n",
    "\n",
    "# fatal_accidents = {}\n",
    "\n",
    "\n",
    "# for year, df in zip(years, year_dfs):\n",
    " \n",
    "#     fatal_accidents[year] = df[df['Accident_Severity'] == 'Fatal']\n",
    " \n",
    "#     print(f\"Fatal accidents in {year}: {fatal_accidents[year].shape}\")"
   ]
  },
  {
   "cell_type": "code",
   "execution_count": 24,
   "metadata": {},
   "outputs": [
    {
     "data": {
      "text/plain": [
       "Year  Accident_Severity\n",
       "2019  Fatal                  2714\n",
       "      Serious               24322\n",
       "      Slight               155079\n",
       "2020  Fatal                  2341\n",
       "      Serious               23121\n",
       "      Slight               145129\n",
       "2021  Fatal                  2057\n",
       "      Serious               21997\n",
       "      Slight               139500\n",
       "2022  Fatal                  1549\n",
       "      Serious               18777\n",
       "      Slight               124093\n",
       "dtype: int64"
      ]
     },
     "execution_count": 24,
     "metadata": {},
     "output_type": "execute_result"
    }
   ],
   "source": [
    "years = accident.groupby(['Year','Accident_Severity']).size()\n",
    "years"
   ]
  },
  {
   "cell_type": "markdown",
   "metadata": {},
   "source": [
    "<h2>Which months have the highest/lowest number of accidents?</h2>\n"
   ]
  },
  {
   "cell_type": "markdown",
   "metadata": {},
   "source": [
    "<h1>Insight No.10 </h1>\n",
    "<h3>November recorded the highest number of accidents at 60,424, accounting for approximately 9.29% of the total annual accidents, while February had the lowest with 49,491 incidents, contributing 7.61%. Interestingly, the data shows that accident rates tend to peak during late autumn (October–November), possibly due to reduced daylight hours and worsening weather conditions.</h3>"
   ]
  },
  {
   "cell_type": "code",
   "execution_count": 25,
   "metadata": {},
   "outputs": [
    {
     "data": {
      "text/plain": [
       "month\n",
       "11    60424\n",
       "10    59580\n",
       "7     57445\n",
       "6     56481\n",
       "9     56455\n",
       "5     56352\n",
       "3     54086\n",
       "8     53913\n",
       "1     52872\n",
       "12    51836\n",
       "4     51744\n",
       "2     49491\n",
       "Name: count, dtype: int64"
      ]
     },
     "execution_count": 25,
     "metadata": {},
     "output_type": "execute_result"
    }
   ],
   "source": [
    "accident['month'].value_counts()"
   ]
  },
  {
   "cell_type": "markdown",
   "metadata": {},
   "source": [
    "<h2>Since the answer in insight number 10, that the peak of accident happening is in octuber and november which is rainy season the question is if in this certain months do weather conditions affect the accident occuring?</h2>\n"
   ]
  },
  {
   "cell_type": "markdown",
   "metadata": {},
   "source": [
    "<h1>Insight No.11 </h1>\n",
    "<h3>No, most accidents occurring during October and November happened under 'fine no high winds' weather conditions, accounting for 80.26% (47,822 incidents), while 'raining no high winds' accounted for only 12.78% (7,615 incidents). </h3>"
   ]
  },
  {
   "cell_type": "code",
   "execution_count": 26,
   "metadata": {},
   "outputs": [
    {
     "data": {
      "text/plain": [
       "Weather_Conditions\n",
       "Fine no high winds           47822\n",
       "Raining no high winds         7615\n",
       "Unknown Weather Condition     1310\n",
       "Other                         1188\n",
       "Raining + high winds           710\n",
       "Fine + high winds              579\n",
       "Fog or mist                    278\n",
       "Snowing no high winds           67\n",
       "Snowing + high winds            11\n",
       "Name: count, dtype: int64"
      ]
     },
     "execution_count": 26,
     "metadata": {},
     "output_type": "execute_result"
    }
   ],
   "source": [
    "# october_november = accident[(accident['month'] == '10') & (accident['month'] == '11')]\n",
    "# (accident['month'] == '11').isnull().sum()\n",
    "\n",
    "# Example with AND logic for different columns\n",
    "# result = accident[(accident['month'] == 10) & (accident['month'] == 11) ] \n",
    "# result\n",
    "\n",
    "october_november = accident[accident['month'] == 10 & 11]\n",
    "season_server_weather = october_november.groupby(['Weather_Conditions','Accident_Severity']).size()\n",
    "october_november['Weather_Conditions'].value_counts()"
   ]
  },
  {
   "cell_type": "markdown",
   "metadata": {},
   "source": [
    "<h2>What month have the highest fatality rate in 2022>?</h2>\n"
   ]
  },
  {
   "cell_type": "markdown",
   "metadata": {},
   "source": [
    "<h1>Insight No.12 </h1>\n",
    "    <h3>The highest fatality rate occurs in August, with 160 fatalities accounting for 1.32% of total accidents—making it the month with the highest percentage of fatalities relative to total accidents.</h3>"
   ]
  },
  {
   "cell_type": "code",
   "execution_count": 27,
   "metadata": {},
   "outputs": [
    {
     "data": {
      "text/html": [
       "<div>\n",
       "<style scoped>\n",
       "    .dataframe tbody tr th:only-of-type {\n",
       "        vertical-align: middle;\n",
       "    }\n",
       "\n",
       "    .dataframe tbody tr th {\n",
       "        vertical-align: top;\n",
       "    }\n",
       "\n",
       "    .dataframe thead th {\n",
       "        text-align: right;\n",
       "    }\n",
       "</style>\n",
       "<table border=\"1\" class=\"dataframe\">\n",
       "  <thead>\n",
       "    <tr style=\"text-align: right;\">\n",
       "      <th>month</th>\n",
       "      <th>1</th>\n",
       "      <th>2</th>\n",
       "      <th>3</th>\n",
       "      <th>4</th>\n",
       "      <th>5</th>\n",
       "      <th>6</th>\n",
       "      <th>7</th>\n",
       "      <th>8</th>\n",
       "      <th>9</th>\n",
       "      <th>10</th>\n",
       "      <th>11</th>\n",
       "      <th>12</th>\n",
       "    </tr>\n",
       "    <tr>\n",
       "      <th>Accident_Severity</th>\n",
       "      <th></th>\n",
       "      <th></th>\n",
       "      <th></th>\n",
       "      <th></th>\n",
       "      <th></th>\n",
       "      <th></th>\n",
       "      <th></th>\n",
       "      <th></th>\n",
       "      <th></th>\n",
       "      <th></th>\n",
       "      <th></th>\n",
       "      <th></th>\n",
       "    </tr>\n",
       "  </thead>\n",
       "  <tbody>\n",
       "    <tr>\n",
       "      <th>Fatal</th>\n",
       "      <td>104</td>\n",
       "      <td>117</td>\n",
       "      <td>129</td>\n",
       "      <td>115</td>\n",
       "      <td>147</td>\n",
       "      <td>138</td>\n",
       "      <td>121</td>\n",
       "      <td>160</td>\n",
       "      <td>144</td>\n",
       "      <td>151</td>\n",
       "      <td>133</td>\n",
       "      <td>90</td>\n",
       "    </tr>\n",
       "    <tr>\n",
       "      <th>Serious</th>\n",
       "      <td>1139</td>\n",
       "      <td>1290</td>\n",
       "      <td>1606</td>\n",
       "      <td>1599</td>\n",
       "      <td>1757</td>\n",
       "      <td>1740</td>\n",
       "      <td>1765</td>\n",
       "      <td>1626</td>\n",
       "      <td>1791</td>\n",
       "      <td>1762</td>\n",
       "      <td>1631</td>\n",
       "      <td>1071</td>\n",
       "    </tr>\n",
       "    <tr>\n",
       "      <th>Slight</th>\n",
       "      <td>8724</td>\n",
       "      <td>9528</td>\n",
       "      <td>10606</td>\n",
       "      <td>9796</td>\n",
       "      <td>10468</td>\n",
       "      <td>10934</td>\n",
       "      <td>10767</td>\n",
       "      <td>10302</td>\n",
       "      <td>11025</td>\n",
       "      <td>11621</td>\n",
       "      <td>11858</td>\n",
       "      <td>8464</td>\n",
       "    </tr>\n",
       "  </tbody>\n",
       "</table>\n",
       "</div>"
      ],
      "text/plain": [
       "month                 1     2      3     4      5      6      7      8      9  \\\n",
       "Accident_Severity                                                               \n",
       "Fatal               104   117    129   115    147    138    121    160    144   \n",
       "Serious            1139  1290   1606  1599   1757   1740   1765   1626   1791   \n",
       "Slight             8724  9528  10606  9796  10468  10934  10767  10302  11025   \n",
       "\n",
       "month                 10     11    12  \n",
       "Accident_Severity                      \n",
       "Fatal                151    133    90  \n",
       "Serious             1762   1631  1071  \n",
       "Slight             11621  11858  8464  "
      ]
     },
     "execution_count": 27,
     "metadata": {},
     "output_type": "execute_result"
    }
   ],
   "source": [
    "\n",
    "during_2022.groupby(['month','Accident_Severity']).size().unstack().T"
   ]
  },
  {
   "cell_type": "markdown",
   "metadata": {},
   "source": [
    "<h2>Is there a correlation between accident severity and number of casualities??</h2>"
   ]
  },
  {
   "cell_type": "markdown",
   "metadata": {},
   "source": [
    "<h1>Insight No.13 </h1>\n",
    "<h3>The p-value of zero indicates no statistically significant correlation between the number of casualties and accident severity for slight and serious accidents.</h3>"
   ]
  },
  {
   "cell_type": "code",
   "execution_count": 28,
   "metadata": {},
   "outputs": [
    {
     "name": "stdout",
     "output_type": "stream",
     "text": [
      "0.0\n"
     ]
    }
   ],
   "source": [
    "group1 = accident.loc[accident['Accident_Severity'] == 'Slight', 'Number_of_Casualties']\n",
    "group2 = accident.loc[accident['Accident_Severity'] == 'Serious', 'Number_of_Casualties']\n",
    "\n",
    "\n",
    "f_stat, p_value = f_oneway(group1, group2)\n",
    "print(p_value)\n"
   ]
  },
  {
   "cell_type": "markdown",
   "metadata": {},
   "source": [
    "<h2>What weather conditon have the most number of accident</h2>"
   ]
  },
  {
   "cell_type": "markdown",
   "metadata": {},
   "source": [
    "<h1>Insight No.14</h1>\n",
    "<h3>The majority of accidents occurred under 'fine no high winds' weather conditions, accounting for 78.84% of all incidents (520,885 out of 660,679 total accidents), far exceeding other conditions such as 'raining no high winds' (12.06%) and 'snowing no high winds' (0.94%).</h3>"
   ]
  },
  {
   "cell_type": "code",
   "execution_count": 29,
   "metadata": {},
   "outputs": [
    {
     "data": {
      "text/plain": [
       "Weather_Conditions\n",
       "Fine no high winds           520885\n",
       "Raining no high winds         79696\n",
       "Other                         17150\n",
       "Unknown Weather Condition     14128\n",
       "Raining + high winds           9615\n",
       "Fine + high winds              8554\n",
       "Snowing no high winds          6238\n",
       "Fog or mist                    3528\n",
       "Snowing + high winds            885\n",
       "Name: count, dtype: int64"
      ]
     },
     "execution_count": 29,
     "metadata": {},
     "output_type": "execute_result"
    }
   ],
   "source": [
    "accident['Weather_Conditions'].value_counts()"
   ]
  },
  {
   "cell_type": "markdown",
   "metadata": {},
   "source": [
    "<h2>What is the average number of accident permonth?</h2>"
   ]
  },
  {
   "cell_type": "markdown",
   "metadata": {},
   "source": [
    "<h1>Insight No.15</h1>\n",
    "<h2>The data shows that an average of 55,056 accidents occurred per month.</h2>"
   ]
  },
  {
   "cell_type": "code",
   "execution_count": 30,
   "metadata": {},
   "outputs": [
    {
     "name": "stdout",
     "output_type": "stream",
     "text": [
      "Average accidents per month: 55056.58\n"
     ]
    }
   ],
   "source": [
    "\n",
    "monthly_counts = accident['month'].value_counts()\n",
    "\n",
    "\n",
    "average_accidents_per_month = monthly_counts.mean()\n",
    "\n",
    "print(f\"Average accidents per month: {average_accidents_per_month:.2f}\")"
   ]
  },
  {
   "cell_type": "markdown",
   "metadata": {},
   "source": [
    "<h2>What is the average number of accident year? </h2>"
   ]
  },
  {
   "cell_type": "markdown",
   "metadata": {},
   "source": [
    "<h1>Insight No.16</h1>\n",
    "<h2>The data shows that an average of 55,056 accidents occurred per year.</h2>"
   ]
  },
  {
   "cell_type": "code",
   "execution_count": 31,
   "metadata": {},
   "outputs": [
    {
     "name": "stdout",
     "output_type": "stream",
     "text": [
      "Average accidents per Year: 165169.75\n"
     ]
    }
   ],
   "source": [
    "\n",
    "Yearly_counts = accident['Year'].value_counts()\n",
    "\n",
    "\n",
    "average_accidents_per_Year = Yearly_counts.mean()\n",
    "\n",
    "print(f\"Average accidents per Year: {average_accidents_per_Year:.2f}\")"
   ]
  },
  {
   "cell_type": "markdown",
   "metadata": {},
   "source": [
    "<h2>Which road type has the highest number of accidents?</h2>"
   ]
  },
  {
   "cell_type": "markdown",
   "metadata": {},
   "source": [
    "<h1>Insight No.17</h1>\n",
    "<h2>The majority of accidents occurred on single carriageway roads, accounting for 74.49% of all incidents (492,143 out of 660,679 total accidents), far exceeding other road types such as dual carriageways (15.05%) and roundabouts (6.66%).</h2>"
   ]
  },
  {
   "cell_type": "code",
   "execution_count": 32,
   "metadata": {},
   "outputs": [
    {
     "data": {
      "text/plain": [
       "Road_Type\n",
       "Single carriageway    492143\n",
       "Dual carriageway       99424\n",
       "Roundabout             43992\n",
       "One way street         13559\n",
       "Slip road               7041\n",
       "Unknown Road Type       4520\n",
       "Name: count, dtype: int64"
      ]
     },
     "execution_count": 32,
     "metadata": {},
     "output_type": "execute_result"
    }
   ],
   "source": [
    "accident['Road_Type'].value_counts()"
   ]
  },
  {
   "cell_type": "markdown",
   "metadata": {},
   "source": [
    "<h2>What is the distribution of the number of vehicles involved in accidents?</h2>\n"
   ]
  },
  {
   "cell_type": "markdown",
   "metadata": {},
   "source": [
    "<h1>Insight No.18</h1>\n",
    "<h2>Most Accidents Involve Two Vehicles, Accounting for 59.32% of Total Incidents (391,995 out of 660,781)</h2>"
   ]
  },
  {
   "cell_type": "code",
   "execution_count": 33,
   "metadata": {},
   "outputs": [
    {
     "data": {
      "text/plain": [
       "Number_of_Vehicles\n",
       "2     391995\n",
       "1     200787\n",
       "3      52806\n",
       "4      11300\n",
       "5       2464\n",
       "6        758\n",
       "7        296\n",
       "8        147\n",
       "9         57\n",
       "10        27\n",
       "11        12\n",
       "14         9\n",
       "12         7\n",
       "13         6\n",
       "16         4\n",
       "28         1\n",
       "15         1\n",
       "32         1\n",
       "19         1\n",
       "Name: count, dtype: int64"
      ]
     },
     "execution_count": 33,
     "metadata": {},
     "output_type": "execute_result"
    }
   ],
   "source": [
    "accident['Number_of_Vehicles'].value_counts()"
   ]
  },
  {
   "cell_type": "markdown",
   "metadata": {},
   "source": [
    "<h2>Is there a relationship between road type and accident severity?</h2>\n"
   ]
  },
  {
   "cell_type": "markdown",
   "metadata": {},
   "source": [
    "<h1>Insight No.19</h1>\n",
    "<h2>The majority of fatal accidents occurred on single carriageway roads, accounting for 75.36% of all fatalities (6,527 out of 8,661), while slip roads had the lowest number of fatalities at just 0.57% (49 incidents).</h2>"
   ]
  },
  {
   "cell_type": "code",
   "execution_count": 34,
   "metadata": {},
   "outputs": [
    {
     "data": {
      "text/html": [
       "<div>\n",
       "<style scoped>\n",
       "    .dataframe tbody tr th:only-of-type {\n",
       "        vertical-align: middle;\n",
       "    }\n",
       "\n",
       "    .dataframe tbody tr th {\n",
       "        vertical-align: top;\n",
       "    }\n",
       "\n",
       "    .dataframe thead th {\n",
       "        text-align: right;\n",
       "    }\n",
       "</style>\n",
       "<table border=\"1\" class=\"dataframe\">\n",
       "  <thead>\n",
       "    <tr style=\"text-align: right;\">\n",
       "      <th>Accident_Severity</th>\n",
       "      <th>Fatal</th>\n",
       "      <th>Serious</th>\n",
       "      <th>Slight</th>\n",
       "    </tr>\n",
       "    <tr>\n",
       "      <th>Road_Type</th>\n",
       "      <th></th>\n",
       "      <th></th>\n",
       "      <th></th>\n",
       "    </tr>\n",
       "  </thead>\n",
       "  <tbody>\n",
       "    <tr>\n",
       "      <th>Dual carriageway</th>\n",
       "      <td>1815</td>\n",
       "      <td>11746</td>\n",
       "      <td>85863</td>\n",
       "    </tr>\n",
       "    <tr>\n",
       "      <th>One way street</th>\n",
       "      <td>95</td>\n",
       "      <td>1655</td>\n",
       "      <td>11809</td>\n",
       "    </tr>\n",
       "    <tr>\n",
       "      <th>Roundabout</th>\n",
       "      <td>142</td>\n",
       "      <td>3665</td>\n",
       "      <td>40185</td>\n",
       "    </tr>\n",
       "    <tr>\n",
       "      <th>Single carriageway</th>\n",
       "      <td>6527</td>\n",
       "      <td>70059</td>\n",
       "      <td>415557</td>\n",
       "    </tr>\n",
       "    <tr>\n",
       "      <th>Slip road</th>\n",
       "      <td>49</td>\n",
       "      <td>611</td>\n",
       "      <td>6381</td>\n",
       "    </tr>\n",
       "    <tr>\n",
       "      <th>Unknown Road Type</th>\n",
       "      <td>33</td>\n",
       "      <td>481</td>\n",
       "      <td>4006</td>\n",
       "    </tr>\n",
       "  </tbody>\n",
       "</table>\n",
       "</div>"
      ],
      "text/plain": [
       "Accident_Severity   Fatal  Serious  Slight\n",
       "Road_Type                                 \n",
       "Dual carriageway     1815    11746   85863\n",
       "One way street         95     1655   11809\n",
       "Roundabout            142     3665   40185\n",
       "Single carriageway   6527    70059  415557\n",
       "Slip road              49      611    6381\n",
       "Unknown Road Type      33      481    4006"
      ]
     },
     "execution_count": 34,
     "metadata": {},
     "output_type": "execute_result"
    }
   ],
   "source": [
    "road_severity = accident.groupby(['Road_Type','Accident_Severity']).size()\n",
    "road_severity.unstack()"
   ]
  },
  {
   "cell_type": "markdown",
   "metadata": {},
   "source": [
    "<h2>How does number of vehicle involved affect the severity of the accident?</h2>\n"
   ]
  },
  {
   "cell_type": "markdown",
   "metadata": {},
   "source": [
    "<h1>Insight No.20</h1>\n",
    "<h2>single-vehicle accidents are have a higher chance of fatality per incident (1.93%) than two-vehicle ones (0.88%), while four-vehicle accidents top the list at 2.41%, though they happen less often. Using these percentages, you can estimate total fatalities if you know the number of accidents in each group.</h2>"
   ]
  },
  {
   "cell_type": "code",
   "execution_count": 35,
   "metadata": {},
   "outputs": [
    {
     "data": {
      "text/html": [
       "<div>\n",
       "<style scoped>\n",
       "    .dataframe tbody tr th:only-of-type {\n",
       "        vertical-align: middle;\n",
       "    }\n",
       "\n",
       "    .dataframe tbody tr th {\n",
       "        vertical-align: top;\n",
       "    }\n",
       "\n",
       "    .dataframe thead th {\n",
       "        text-align: right;\n",
       "    }\n",
       "</style>\n",
       "<table border=\"1\" class=\"dataframe\">\n",
       "  <thead>\n",
       "    <tr style=\"text-align: right;\">\n",
       "      <th>Accident_Severity</th>\n",
       "      <th>Fatal</th>\n",
       "      <th>Serious</th>\n",
       "      <th>Slight</th>\n",
       "    </tr>\n",
       "    <tr>\n",
       "      <th>Number_of_Vehicles</th>\n",
       "      <th></th>\n",
       "      <th></th>\n",
       "      <th></th>\n",
       "    </tr>\n",
       "  </thead>\n",
       "  <tbody>\n",
       "    <tr>\n",
       "      <th>1</th>\n",
       "      <td>3885</td>\n",
       "      <td>38940</td>\n",
       "      <td>157962</td>\n",
       "    </tr>\n",
       "    <tr>\n",
       "      <th>2</th>\n",
       "      <td>3467</td>\n",
       "      <td>41578</td>\n",
       "      <td>346950</td>\n",
       "    </tr>\n",
       "    <tr>\n",
       "      <th>3</th>\n",
       "      <td>900</td>\n",
       "      <td>5808</td>\n",
       "      <td>46098</td>\n",
       "    </tr>\n",
       "    <tr>\n",
       "      <th>4</th>\n",
       "      <td>272</td>\n",
       "      <td>1340</td>\n",
       "      <td>9688</td>\n",
       "    </tr>\n",
       "    <tr>\n",
       "      <th>5</th>\n",
       "      <td>70</td>\n",
       "      <td>326</td>\n",
       "      <td>2068</td>\n",
       "    </tr>\n",
       "    <tr>\n",
       "      <th>6</th>\n",
       "      <td>28</td>\n",
       "      <td>121</td>\n",
       "      <td>609</td>\n",
       "    </tr>\n",
       "    <tr>\n",
       "      <th>7</th>\n",
       "      <td>17</td>\n",
       "      <td>63</td>\n",
       "      <td>216</td>\n",
       "    </tr>\n",
       "    <tr>\n",
       "      <th>8</th>\n",
       "      <td>12</td>\n",
       "      <td>25</td>\n",
       "      <td>110</td>\n",
       "    </tr>\n",
       "    <tr>\n",
       "      <th>9</th>\n",
       "      <td>1</td>\n",
       "      <td>5</td>\n",
       "      <td>51</td>\n",
       "    </tr>\n",
       "    <tr>\n",
       "      <th>10</th>\n",
       "      <td>2</td>\n",
       "      <td>5</td>\n",
       "      <td>20</td>\n",
       "    </tr>\n",
       "    <tr>\n",
       "      <th>11</th>\n",
       "      <td>2</td>\n",
       "      <td>0</td>\n",
       "      <td>10</td>\n",
       "    </tr>\n",
       "    <tr>\n",
       "      <th>12</th>\n",
       "      <td>0</td>\n",
       "      <td>2</td>\n",
       "      <td>5</td>\n",
       "    </tr>\n",
       "    <tr>\n",
       "      <th>13</th>\n",
       "      <td>0</td>\n",
       "      <td>2</td>\n",
       "      <td>4</td>\n",
       "    </tr>\n",
       "    <tr>\n",
       "      <th>14</th>\n",
       "      <td>3</td>\n",
       "      <td>0</td>\n",
       "      <td>6</td>\n",
       "    </tr>\n",
       "    <tr>\n",
       "      <th>15</th>\n",
       "      <td>0</td>\n",
       "      <td>0</td>\n",
       "      <td>1</td>\n",
       "    </tr>\n",
       "    <tr>\n",
       "      <th>16</th>\n",
       "      <td>1</td>\n",
       "      <td>1</td>\n",
       "      <td>2</td>\n",
       "    </tr>\n",
       "    <tr>\n",
       "      <th>19</th>\n",
       "      <td>0</td>\n",
       "      <td>1</td>\n",
       "      <td>0</td>\n",
       "    </tr>\n",
       "    <tr>\n",
       "      <th>28</th>\n",
       "      <td>1</td>\n",
       "      <td>0</td>\n",
       "      <td>0</td>\n",
       "    </tr>\n",
       "    <tr>\n",
       "      <th>32</th>\n",
       "      <td>0</td>\n",
       "      <td>0</td>\n",
       "      <td>1</td>\n",
       "    </tr>\n",
       "  </tbody>\n",
       "</table>\n",
       "</div>"
      ],
      "text/plain": [
       "Accident_Severity   Fatal  Serious  Slight\n",
       "Number_of_Vehicles                        \n",
       "1                    3885    38940  157962\n",
       "2                    3467    41578  346950\n",
       "3                     900     5808   46098\n",
       "4                     272     1340    9688\n",
       "5                      70      326    2068\n",
       "6                      28      121     609\n",
       "7                      17       63     216\n",
       "8                      12       25     110\n",
       "9                       1        5      51\n",
       "10                      2        5      20\n",
       "11                      2        0      10\n",
       "12                      0        2       5\n",
       "13                      0        2       4\n",
       "14                      3        0       6\n",
       "15                      0        0       1\n",
       "16                      1        1       2\n",
       "19                      0        1       0\n",
       "28                      1        0       0\n",
       "32                      0        0       1"
      ]
     },
     "execution_count": 35,
     "metadata": {},
     "output_type": "execute_result"
    }
   ],
   "source": [
    "accident.groupby(['Number_of_Vehicles','Accident_Severity']).size().unstack()"
   ]
  },
  {
   "cell_type": "markdown",
   "metadata": {},
   "source": [
    "<h2>What type of car has the highest fatality rate, and which district has the highest number of fatal accidents?</h2>\n"
   ]
  },
  {
   "cell_type": "markdown",
   "metadata": {},
   "source": [
    "<h1>Insight No.21</h1>\n",
    "<h3>Highland has the highest number of fatal accidents, accounting for 30 incidents (7.1% of all districts). Among these, the majority involve car type, representing 23 out of 30 accidents (76.7%), followed by taxi/private hire cars and light goods vehicles, each accounting for 2 accidents (6.7%). Other vehicle types contribute minimally or not at all to the total.</h3>"
   ]
  },
  {
   "cell_type": "code",
   "execution_count": 36,
   "metadata": {},
   "outputs": [
    {
     "data": {
      "text/plain": [
       "District Area\n",
       "Highland                    30\n",
       "Birmingham                  28\n",
       "Leeds                       24\n",
       "Aberdeenshire               21\n",
       "East Riding of Yorkshire    21\n",
       "                            ..\n",
       "Harrow                       0\n",
       "Blaenau Gwent                0\n",
       "Harlow                       0\n",
       "Bexley                       0\n",
       "Hastings                     0\n",
       "Name: count, Length: 422, dtype: int64"
      ]
     },
     "execution_count": 36,
     "metadata": {},
     "output_type": "execute_result"
    }
   ],
   "source": [
    "si_fatal = during_2020[during_2020['Accident_Severity'] == 'Fatal']\n",
    "getting_highland = si_fatal[si_fatal['District Area'] == 'Highland']\n",
    "si_fatal['District Area'].value_counts()\n"
   ]
  },
  {
   "cell_type": "code",
   "execution_count": 37,
   "metadata": {},
   "outputs": [
    {
     "data": {
      "text/plain": [
       "Vehicle_Type\n",
       "Car                                      23\n",
       "Taxi/Private hire car                     2\n",
       "Van / Goods 3.5 tonnes mgw or under       2\n",
       "Goods 7.5 tonnes mgw and over             1\n",
       "Motorcycle 50cc and under                 1\n",
       "Other vehicle                             1\n",
       "Agricultural vehicle                      0\n",
       "Bus or coach (17 or more pass seats)      0\n",
       "Data missing or out of range              0\n",
       "Goods over 3.5t. and under 7.5t           0\n",
       "Minibus (8 - 16 passenger seats)          0\n",
       "Motorcycle 125cc and under                0\n",
       "Motorcycle over 125cc and up to 500cc     0\n",
       "Motorcycle over 500cc                     0\n",
       "Pedal cycle                               0\n",
       "Ridden horse                              0\n",
       "Name: count, dtype: int64"
      ]
     },
     "execution_count": 37,
     "metadata": {},
     "output_type": "execute_result"
    }
   ],
   "source": [
    "getting_highland['Vehicle_Type'].value_counts()"
   ]
  },
  {
   "cell_type": "markdown",
   "metadata": {},
   "source": [
    "<h2>Do night time condition have the highest fatality ? and what district have the highest accident in term of darkness condition</h2>\n"
   ]
  },
  {
   "cell_type": "markdown",
   "metadata": {},
   "source": [
    "<h1>Insight No.22</h1>\n",
    "<h3>Daylight conditions account for the lowest percentage of fatal accidents at 0.9%, while darkness conditions have a higher percentage at 3.1%.</h3>"
   ]
  },
  {
   "cell_type": "code",
   "execution_count": 38,
   "metadata": {},
   "outputs": [
    {
     "data": {
      "text/plain": [
       "Accident_Severity\n",
       "Slight     30716\n",
       "Serious     5350\n",
       "Fatal        585\n",
       "Name: count, dtype: int64"
      ]
     },
     "execution_count": 38,
     "metadata": {},
     "output_type": "execute_result"
    }
   ],
   "source": [
    "light_2022 = during_2022[during_2022['Light_Conditions'] != 'Daylight']\n",
    "darkness = light_2022['Accident_Severity']\n",
    "darkness.value_counts()"
   ]
  },
  {
   "cell_type": "code",
   "execution_count": 39,
   "metadata": {},
   "outputs": [
    {
     "data": {
      "text/plain": [
       "Accident_Severity\n",
       "Slight     93377\n",
       "Serious    13427\n",
       "Fatal        964\n",
       "Name: count, dtype: int64"
      ]
     },
     "execution_count": 39,
     "metadata": {},
     "output_type": "execute_result"
    }
   ],
   "source": [
    "light_2022 = during_2022[during_2022['Light_Conditions'] == 'Daylight']\n",
    "daylight = light_2022['Accident_Severity']\n",
    "daylight.value_counts()"
   ]
  }
 ],
 "metadata": {
  "kernelspec": {
   "display_name": "Python 3",
   "language": "python",
   "name": "python3"
  },
  "language_info": {
   "codemirror_mode": {
    "name": "ipython",
    "version": 3
   },
   "file_extension": ".py",
   "mimetype": "text/x-python",
   "name": "python",
   "nbconvert_exporter": "python",
   "pygments_lexer": "ipython3",
   "version": "3.11.3"
  }
 },
 "nbformat": 4,
 "nbformat_minor": 2
}
